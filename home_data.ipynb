{
 "cells": [
  {
   "cell_type": "code",
   "execution_count": 96,
   "id": "bb34d219",
   "metadata": {},
   "outputs": [
    {
     "name": "stdout",
     "output_type": "stream",
     "text": [
      "60\n",
      "The MAE for this model is : 20803.656434577995\n"
     ]
    }
   ],
   "source": [
    "import pandas as pd; \n",
    "import numpy as np;\n",
    "import matplotlib.pyplot as plt; \n",
    "from sklearn.tree import DecisionTreeRegressor\n",
    "from sklearn.metrics import mean_absolute_error\n",
    "from sklearn.model_selection import train_test_split\n",
    "from sklearn.ensemble import RandomForestRegressor\n",
    "\n",
    "data = pd.read_csv('./data_files/train.csv'); #read training data\n",
    "\n",
    "data.dropna(axis=0)\n",
    "y = data.SalePrice\n",
    "\n",
    "selected_features = ['LotArea','YearBuilt','OverallQual','YrSold','MiscVal','PoolArea']\n",
    "\n",
    "X = data[selected_features]\n",
    "\n",
    "train_X,val_X,train_y,val_y = train_test_split(X,y,random_state=1)\n",
    "\n",
    "\n",
    "#define the modal; \n",
    "house_model = RandomForestRegressor(random_state=1)\n",
    "\n",
    "#combat the overfiting / underfitting of the modal / consider the max_leaf_nodes parameters.\n",
    "\n",
    "possible_leaf_nodes = [10,60,55,100,200,500,100];\n",
    "\n",
    "#We need to find the best_number of leaf nodes for our model.// comparing the costs/mae for each number of nodes and pick one\n",
    "\n",
    "def calculate_mae(max_leaf_nodes,train_X,val_x,train_y,val_y): \n",
    "    model = DecisionTreeRegressor(max_leaf_nodes=max_leaf_nodes,random_state=1)\n",
    "    model.fit(train_X,train_y);\n",
    "    predictions = model.predict(val_X); \n",
    "    mae = mean_absolute_error(val_y,predictions)\n",
    "    \n",
    "    return mae; \n",
    "\n",
    "\n",
    "scores = {leaf_size: calculate_mae(leaf_size,train_X,val_X,train_y,val_y) for leaf_size in (possible_leaf_nodes)}\n",
    "best_tree_size = min(scores, key=scores.get)\n",
    "print(best_tree_size);\n",
    "\n",
    "\n",
    "#fit the modal using the best_tree_size for this modal;\n",
    "\n",
    "final_model = RandomForestRegressor (max_leaf_nodes=best_tree_size,random_state=1)\n",
    "final_model.fit(X,y)\n",
    "\n",
    "predictions = final_model.predict(X); \n",
    "mae = mean_absolute_error(y,predictions);\n",
    "\n",
    "print(f\"The MAE for this model is : {mae}\")\n",
    "\n",
    "# print(final_model.predict(X))\n",
    "# print(y)\n",
    "\n",
    "\n",
    "# now use this model to predict the prices of from the test file; \n",
    "\n",
    "test_data = pd.read_csv('./data_files/test.csv')\n",
    "test_data.dropna(axis=0); \n",
    "\n",
    "test_X = test_data[selected_features]; \n",
    "\n",
    "test_predictions = final_model.predict(test_X);\n",
    "\n",
    "ids = np.array(test_data.Id)\n",
    "sale_price = np.array(test_predictions)\n",
    "\n",
    "dataset = pd.DataFrame({'Id':ids,'SalePrice':sale_price})\n",
    "dataset.to_csv('predictions.csv',index=False)\n",
    "\n",
    "    "
   ]
  },
  {
   "cell_type": "code",
   "execution_count": null,
   "id": "3d5f3023",
   "metadata": {},
   "outputs": [],
   "source": []
  }
 ],
 "metadata": {
  "kernelspec": {
   "display_name": "Python 3 (ipykernel)",
   "language": "python",
   "name": "python3"
  },
  "language_info": {
   "codemirror_mode": {
    "name": "ipython",
    "version": 3
   },
   "file_extension": ".py",
   "mimetype": "text/x-python",
   "name": "python",
   "nbconvert_exporter": "python",
   "pygments_lexer": "ipython3",
   "version": "3.9.7"
  }
 },
 "nbformat": 4,
 "nbformat_minor": 5
}
